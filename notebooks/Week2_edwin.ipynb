{
  "nbformat": 4,
  "nbformat_minor": 0,
  "metadata": {
    "colab": {
      "name": "AndrewNg_Week2",
      "provenance": [],
      "collapsed_sections": [
        "jl8zloXXcjjJ",
        "HP2ZULm5caTD"
      ],
      "toc_visible": true
    },
    "kernelspec": {
      "name": "python3",
      "display_name": "Python 3"
    }
  },
  "cells": [
    {
      "cell_type": "markdown",
      "metadata": {
        "id": "ksTShYp-J2VB",
        "colab_type": "text"
      },
      "source": [
        "# Hi Patrick! Can you see this?"
      ]
    },
    {
      "cell_type": "markdown",
      "metadata": {
        "id": "WVK5pzHWKNc9",
        "colab_type": "text"
      },
      "source": [
        "# Linear regression with one variable\n",
        "\n",
        "Given data with city polulation and food truck profit"
      ]
    },
    {
      "cell_type": "code",
      "metadata": {
        "id": "t9nW1dy3Kdyh",
        "colab_type": "code",
        "outputId": "29f37955-f69d-4644-e39e-de078d3dfcb2",
        "colab": {
          "base_uri": "https://localhost:8080/",
          "height": 68
        }
      },
      "source": [
        "import pandas as pd\n",
        "import numpy as np\n",
        "import matplotlib.pyplot as plt\n",
        "import seaborn as sns\n",
        "from google.colab import drive\n",
        "drive.mount('/content/drive')"
      ],
      "execution_count": 0,
      "outputs": [
        {
          "output_type": "stream",
          "text": [
            "Drive already mounted at /content/drive; to attempt to forcibly remount, call drive.mount(\"/content/drive\", force_remount=True).\n"
          ],
          "name": "stdout"
        },
        {
          "output_type": "stream",
          "text": [
            "/usr/local/lib/python3.6/dist-packages/statsmodels/tools/_testing.py:19: FutureWarning: pandas.util.testing is deprecated. Use the functions in the public API at pandas.testing instead.\n",
            "  import pandas.util.testing as tm\n"
          ],
          "name": "stderr"
        }
      ]
    },
    {
      "cell_type": "code",
      "metadata": {
        "id": "hzr28XJgK0FX",
        "colab_type": "code",
        "outputId": "76c31011-b86f-483f-f1e9-433941313754",
        "colab": {
          "base_uri": "https://localhost:8080/",
          "height": 204
        }
      },
      "source": [
        "df = pd.read_csv('../content/drive/My Drive/ex1data1.txt', header=None)\n",
        "df.rename(columns={0:'Population', 1:'Profit'}, inplace=True)  # rename the columns, since the text file doesn't come with any headers\n",
        "df.head()"
      ],
      "execution_count": 0,
      "outputs": [
        {
          "output_type": "execute_result",
          "data": {
            "text/html": [
              "<div>\n",
              "<style scoped>\n",
              "    .dataframe tbody tr th:only-of-type {\n",
              "        vertical-align: middle;\n",
              "    }\n",
              "\n",
              "    .dataframe tbody tr th {\n",
              "        vertical-align: top;\n",
              "    }\n",
              "\n",
              "    .dataframe thead th {\n",
              "        text-align: right;\n",
              "    }\n",
              "</style>\n",
              "<table border=\"1\" class=\"dataframe\">\n",
              "  <thead>\n",
              "    <tr style=\"text-align: right;\">\n",
              "      <th></th>\n",
              "      <th>Population</th>\n",
              "      <th>Profit</th>\n",
              "    </tr>\n",
              "  </thead>\n",
              "  <tbody>\n",
              "    <tr>\n",
              "      <th>0</th>\n",
              "      <td>6.1101</td>\n",
              "      <td>17.5920</td>\n",
              "    </tr>\n",
              "    <tr>\n",
              "      <th>1</th>\n",
              "      <td>5.5277</td>\n",
              "      <td>9.1302</td>\n",
              "    </tr>\n",
              "    <tr>\n",
              "      <th>2</th>\n",
              "      <td>8.5186</td>\n",
              "      <td>13.6620</td>\n",
              "    </tr>\n",
              "    <tr>\n",
              "      <th>3</th>\n",
              "      <td>7.0032</td>\n",
              "      <td>11.8540</td>\n",
              "    </tr>\n",
              "    <tr>\n",
              "      <th>4</th>\n",
              "      <td>5.8598</td>\n",
              "      <td>6.8233</td>\n",
              "    </tr>\n",
              "  </tbody>\n",
              "</table>\n",
              "</div>"
            ],
            "text/plain": [
              "   Population   Profit\n",
              "0      6.1101  17.5920\n",
              "1      5.5277   9.1302\n",
              "2      8.5186  13.6620\n",
              "3      7.0032  11.8540\n",
              "4      5.8598   6.8233"
            ]
          },
          "metadata": {
            "tags": []
          },
          "execution_count": 2
        }
      ]
    },
    {
      "cell_type": "code",
      "metadata": {
        "id": "TpZaqERzLHOn",
        "colab_type": "code",
        "outputId": "b6ef3ada-34c4-4b6b-e747-d463d6a69958",
        "colab": {
          "base_uri": "https://localhost:8080/",
          "height": 296
        }
      },
      "source": [
        "sns.regplot(x='Population', y='Profit', data=df, color='black')\n",
        "sns.scatterplot(x='Population', y='Profit', data=df, hue='Profit', palette='viridis')\n",
        "plt.xlabel('Population in 10,000s')\n",
        "plt.ylabel('Profit in $10,000s')"
      ],
      "execution_count": 0,
      "outputs": [
        {
          "output_type": "execute_result",
          "data": {
            "text/plain": [
              "Text(0, 0.5, 'Profit in $10,000s')"
            ]
          },
          "metadata": {
            "tags": []
          },
          "execution_count": 3
        },
        {
          "output_type": "display_data",
          "data": {
            "image/png": "[encoded data removed]",
            "text/plain": [
              "<Figure size 432x288 with 1 Axes>"
            ]
          },
          "metadata": {
            "tags": [],
            "needs_background": "light"
          }
        }
      ]
    },
    {
      "cell_type": "markdown",
      "metadata": {
        "id": "Sl2usxQZco2J",
        "colab_type": "text"
      },
      "source": [
        "# Implement Batch Gradient Descent"
      ]
    },
    {
      "cell_type": "code",
      "metadata": {
        "id": "mPGBodqoLNT-",
        "colab_type": "code",
        "colab": {}
      },
      "source": [
        "def hypothesis(theta, x):\n",
        "    return theta[0] + theta[1]*x \n",
        "\n",
        "\n",
        "def cost(y, predictions):\n",
        "  return 0.5 * np.mean(np.square(predictions - y))\n",
        "\n",
        "\n",
        "def _grad_loss(predictions, x, y):\n",
        "  error = predictions - y\n",
        "  loss_grad = [\n",
        "    np.mean(error),\n",
        "    np.mean(error * x)\n",
        "  ]\n",
        "  return np.array(loss_grad)\n",
        "\n",
        "import pdb\n",
        "def batch_gradient_descent(theta = [0, 0], learning_rate = 0.01, max_iter = 1500, eps = 1e-5): \n",
        "  converged = False \n",
        "  cost_list, theta_list = [], []\n",
        "  cost_grad_list = [np.array([1e6, 1e6])]\n",
        "  theta = np.array(theta, dtype=np.float64)  # convert theta to float array\n",
        "  n = 0\n",
        "  x = df['Population'].values\n",
        "  y = df['Profit'].values\n",
        "  while not converged: \n",
        "    theta_list.append(theta)\n",
        "    current_predictions = hypothesis(theta, x)\n",
        "    loss = cost(y, current_predictions)  # mean squared error\n",
        "\n",
        "    # update theta simultaneously\n",
        "    loss_gradient = _grad_loss(current_predictions, x, y)\n",
        "    theta -= learning_rate * loss_gradient\n",
        "\n",
        "\n",
        "\n",
        "    # keep track of variables\n",
        "    theta_list.append(theta)\n",
        "    cost_list.append(loss)\n",
        "    cost_grad_list.append(loss_gradient)\n",
        "    n += 1\n",
        "\n",
        "    # define convergence to be when abs. diff between most recent two gradients <= eps\n",
        "    # or if num. iterations exceeds maximum\n",
        "    converged = (np.all(np.abs(np.diff(cost_grad_list[-2:], axis=0)) <= eps)\n",
        "      or \n",
        "      n >= max_iter\n",
        "    )\n",
        "  \n",
        "  return theta, cost_list, cost_grad_list, theta_list"
      ],
      "execution_count": 0,
      "outputs": []
    },
    {
      "cell_type": "code",
      "metadata": {
        "id": "IIIWj1giTXhD",
        "colab_type": "code",
        "outputId": "56f6fc3f-9d13-4fac-ac52-18e896162992",
        "colab": {
          "base_uri": "https://localhost:8080/",
          "height": 34
        }
      },
      "source": [
        "theta, cost_list, cost_grad_list, theta_list = batch_gradient_descent(learning_rate = 0.02, max_iter=3000)\n",
        "theta, len(cost_list), cost_list[-1]"
      ],
      "execution_count": 0,
      "outputs": [
        {
          "output_type": "execute_result",
          "data": {
            "text/plain": [
              "(array([-3.88051101,  1.19149962]), 1540, 4.476992757423765)"
            ]
          },
          "metadata": {
            "tags": []
          },
          "execution_count": 39
        }
      ]
    },
    {
      "cell_type": "markdown",
      "metadata": {
        "id": "jl8zloXXcjjJ",
        "colab_type": "text"
      },
      "source": [
        "# Plot results"
      ]
    },
    {
      "cell_type": "code",
      "metadata": {
        "id": "aonuoxBfWVIo",
        "colab_type": "code",
        "outputId": "ecf74233-dac2-440b-bf32-4464d3ff024e",
        "colab": {
          "base_uri": "https://localhost:8080/",
          "height": 296
        }
      },
      "source": [
        "plt.plot(range(len(cost_list)), cost_list)\n",
        "plt.xlabel('Iteration')\n",
        "plt.ylabel('Mean Squared Loss')"
      ],
      "execution_count": 0,
      "outputs": [
        {
          "output_type": "execute_result",
          "data": {
            "text/plain": [
              "Text(0, 0.5, 'Mean Squared Loss')"
            ]
          },
          "metadata": {
            "tags": []
          },
          "execution_count": 12
        },
        {
          "output_type": "display_data",
          "data": {
            "image/png": "[encoded data removed]",
            "text/plain": [
              "<Figure size 432x288 with 1 Axes>"
            ]
          },
          "metadata": {
            "tags": [],
            "needs_background": "light"
          }
        }
      ]
    },
    {
      "cell_type": "code",
      "metadata": {
        "id": "R4t3ceVGXWBA",
        "colab_type": "code",
        "outputId": "fb79b166-c878-42ae-da7c-9422a11785c3",
        "colab": {
          "base_uri": "https://localhost:8080/",
          "height": 296
        }
      },
      "source": [
        "sns.regplot(x='Population', y='Profit', data=df)\n",
        "plt.plot(df['Population'], hypothesis(theta, df['Population']))"
      ],
      "execution_count": 0,
      "outputs": [
        {
          "output_type": "execute_result",
          "data": {
            "text/plain": [
              "[<matplotlib.lines.Line2D at 0x7f97500612e8>]"
            ]
          },
          "metadata": {
            "tags": []
          },
          "execution_count": 9
        },
        {
          "output_type": "display_data",
          "data": {
            "image/png": "[encoded data removed]",
            "text/plain": [
              "<Figure size 432x288 with 1 Axes>"
            ]
          },
          "metadata": {
            "tags": [],
            "needs_background": "light"
          }
        }
      ]
    },
    {
      "cell_type": "markdown",
      "metadata": {
        "id": "HP2ZULm5caTD",
        "colab_type": "text"
      },
      "source": [
        "# Test with scikit-learn to see if our parameters match"
      ]
    },
    {
      "cell_type": "code",
      "metadata": {
        "id": "Wz_3c2uRY26X",
        "colab_type": "code",
        "outputId": "3b34aec6-1d7e-44b4-83c7-939c92550fc8",
        "colab": {
          "base_uri": "https://localhost:8080/",
          "height": 34
        }
      },
      "source": [
        "from sklearn.linear_model import LinearRegression\n",
        "X = df['Population'].values.reshape(-1, 1)\n",
        "y = df['Profit'].values\n",
        "lin_reg = LinearRegression().fit(X, y)\n",
        "theta, lin_reg.intercept_, lin_reg.coef_"
      ],
      "execution_count": 0,
      "outputs": [
        {
          "output_type": "execute_result",
          "data": {
            "text/plain": [
              "(array([-3.88051101,  1.19149962]), -3.89578087831185, array([1.19303364]))"
            ]
          },
          "metadata": {
            "tags": []
          },
          "execution_count": 14
        }
      ]
    },
    {
      "cell_type": "code",
      "metadata": {
        "id": "MrNDmX6SZwj1",
        "colab_type": "code",
        "outputId": "37e3caf5-4a88-478d-8d4f-031543b6c6c8",
        "colab": {
          "base_uri": "https://localhost:8080/",
          "height": 296
        }
      },
      "source": [
        "sns.regplot(x='Population', y='Profit', data=df, line_kws={'linestyle':'--'})\n",
        "plt.plot(X, hypothesis(theta, X), linestyle='--')\n",
        "plt.plot(X, lin_reg.predict(X), 'red', linestyle='--')\n",
        "plt.xlim((4, 22))"
      ],
      "execution_count": 0,
      "outputs": [
        {
          "output_type": "execute_result",
          "data": {
            "text/plain": [
              "(4.0, 22.0)"
            ]
          },
          "metadata": {
            "tags": []
          },
          "execution_count": 11
        },
        {
          "output_type": "display_data",
          "data": {
            "image/png": "[encoded data removed]",
            "text/plain": [
              "<Figure size 432x288 with 1 Axes>"
            ]
          },
          "metadata": {
            "tags": [],
            "needs_background": "light"
          }
        }
      ]
    },
    {
      "cell_type": "code",
      "metadata": {
        "id": "5f_ZcLUgaxRW",
        "colab_type": "code",
        "colab": {}
      },
      "source": [
        ""
      ],
      "execution_count": 0,
      "outputs": []
    }
  ]
}